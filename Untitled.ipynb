{
 "cells": [
  {
   "cell_type": "code",
   "execution_count": null,
   "id": "f311b290-14a6-4bbc-b526-e0af932e16f4",
   "metadata": {},
   "outputs": [],
   "source": [
    "from pyspark.sql import SparkSession\n",
    "import os\n",
    "import pyodbc\n",
    "import pandas as pd"
   ]
  },
  {
   "cell_type": "code",
   "execution_count": null,
   "id": "37ded1c3-827f-4c1c-b0d1-631dbbaeabee",
   "metadata": {},
   "outputs": [],
   "source": [
    "server = 'UNITNB015\\CONNECTION'\n",
    "database = 'EMPRESA_HOMOLOGACAO'\n",
    "user = 'sa'\n",
    "password = '85356325Ll@'"
   ]
  },
  {
   "cell_type": "code",
   "execution_count": null,
   "id": "d437e862-2c2a-4629-b3cb-ce032c689756",
   "metadata": {},
   "outputs": [],
   "source": [
    "conexao = pyodbc.connect\\\n",
    "            (f'DRIVER=ODBC Driver 17 for SQL Server;SERVER={server};DATABASE={database};UID={user};PWD={password}'\n",
    "            )"
   ]
  },
  {
   "cell_type": "code",
   "execution_count": null,
   "id": "5e426166-48a3-4825-87b8-2271d95cfe0a",
   "metadata": {},
   "outputs": [],
   "source": [
    "cursor = conexao.cursor()\n",
    "cursor.fast_executemany = True"
   ]
  },
  {
   "cell_type": "code",
   "execution_count": null,
   "id": "714a6b9f-3407-411b-a0e7-cde3b1556313",
   "metadata": {},
   "outputs": [],
   "source": [
    "chunk_generator = pd.read_csv('ETL/EMPRESAS_ETL_EMPRESA_ARQ_UNICO/EMPRESAS.csv',sep=';', chunksize=12000, on_bad_lines='skip' )"
   ]
  },
  {
   "cell_type": "code",
   "execution_count": null,
   "id": "663e7d58-696d-4ba9-b196-711705e1a838",
   "metadata": {},
   "outputs": [],
   "source": [
    "query = '''INSERT INTO EMPRESA_HOMOLOGACAO..EMPRESAS(CNPJ\n",
    "                                                    ,RAZAO_SOCIAL\n",
    "                                                    ,NOME_FANTASIA\n",
    "                                                    ,[IDENTIFICADOR_MATRIZ FILIAL]\n",
    "                                                    ,SITUACAO_CADASTRAL\n",
    "                                                    ,NATUREZA_JURIDICA\n",
    "                                                    ,QUALIFICACAO_DO_RESPONSAVEL\n",
    "                                                    ,CAPITAL_SOCIAL_DA_EMPRESA\n",
    "                                                    ,PORTE\n",
    "                                                    ,DATA_SITUACAO_CADASTRAL\n",
    "                                                    ,MOTIVO_SITUACAO_CADASTRAL\n",
    "                                                    ,NOME_DA_CIDADE_NO_EXTERIOR\n",
    "                                                    ,PAIS\n",
    "                                                    ,DT_ABERTURA\n",
    "                                                    ,CNAE_FISCAL\n",
    "                                                    ,CNAE_FISCAL_SECUNDARIA\n",
    "                                                    ,SITUACAO_ESPECIAL\n",
    "                                                    ,DATA_DA_SITUACAO_ESPECIAL\n",
    "                                                    ,ENTE_FEDERATIVO\n",
    ") \n",
    "VALUES(?,?,?,?,?,?,?,?,?,?,?,?,?,?,?,?,?,?,?)\n",
    "'''"
   ]
  },
  {
   "cell_type": "code",
   "execution_count": null,
   "id": "7c59b313-ece4-4900-96e4-b1f22111c789",
   "metadata": {},
   "outputs": [],
   "source": [
    "for chunk in chunk_generator:\n",
    "    df = pd.DataFrame(chunk)\n",
    "    df = df.astype(str)\n",
    "    df = df.fillna(0)\n",
    "    df['CNPJ'] = df['CNPJ'].str.zfill(14)\n",
    "    values  = [tuple(row) for _, row in df.iterrows()]\n",
    "    print(len(values))\n",
    "    cursor.executemany (query,values)\n",
    "    cursor.commit()\n",
    "    del df"
   ]
  },
  {
   "cell_type": "code",
   "execution_count": null,
   "id": "c84c5c19-5cb8-4d9a-a02c-4e9f466b8361",
   "metadata": {},
   "outputs": [],
   "source": []
  }
 ],
 "metadata": {
  "kernelspec": {
   "display_name": "Python 3 (ipykernel)",
   "language": "python",
   "name": "python3"
  },
  "language_info": {
   "codemirror_mode": {
    "name": "ipython",
    "version": 3
   },
   "file_extension": ".py",
   "mimetype": "text/x-python",
   "name": "python",
   "nbconvert_exporter": "python",
   "pygments_lexer": "ipython3",
   "version": "3.11.4"
  }
 },
 "nbformat": 4,
 "nbformat_minor": 5
}
